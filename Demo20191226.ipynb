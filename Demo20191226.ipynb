{
  "nbformat": 4,
  "nbformat_minor": 0,
  "metadata": {
    "colab": {
      "name": "Demo20191226.ipynb",
      "provenance": [],
      "collapsed_sections": []
    },
    "kernelspec": {
      "name": "python3",
      "display_name": "Python 3"
    }
  },
  "cells": [
    {
      "cell_type": "code",
      "metadata": {
        "id": "nCb886JN0rSb",
        "colab_type": "code",
        "colab": {
          "base_uri": "https://localhost:8080/",
          "height": 34
        },
        "outputId": "2c8ae636-75f8-461f-b7b9-c7500620e204"
      },
      "source": [
        "a = 3\n",
        "b = 2\n",
        "a + b"
      ],
      "execution_count": 1,
      "outputs": [
        {
          "output_type": "execute_result",
          "data": {
            "text/plain": [
              "5"
            ]
          },
          "metadata": {
            "tags": []
          },
          "execution_count": 1
        }
      ]
    },
    {
      "cell_type": "code",
      "metadata": {
        "id": "xXTPQdEDDiZl",
        "colab_type": "code",
        "colab": {
          "base_uri": "https://localhost:8080/",
          "height": 54
        },
        "outputId": "f48d86e5-1e47-42f1-ffef-85d9dc7d952c"
      },
      "source": [
        "import requests\n",
        "res = requests.get('https://www.ptt.cc/bbs/CreditCard/index.html')\n",
        "res.text"
      ],
      "execution_count": 2,
      "outputs": [
        {
          "output_type": "execute_result",
          "data": {
            "text/plain": [
              "'<!DOCTYPE html>\\n<html>\\n\\t<head>\\n\\t\\t<meta charset=\"utf-8\">\\n\\t\\t\\n\\n<meta name=\"viewport\" content=\"width=device-width, initial-scale=1\">\\n\\n<title>看板 creditcard 文章列表 - 批踢踢實業坊</title>\\n\\n<link rel=\"stylesheet\" type=\"text/css\" href=\"//images.ptt.cc/bbs/v2.27/bbs-common.css\">\\n<link rel=\"stylesheet\" type=\"text/css\" href=\"//images.ptt.cc/bbs/v2.27/bbs-base.css\" media=\"screen\">\\n<link rel=\"stylesheet\" type=\"text/css\" href=\"//images.ptt.cc/bbs/v2.27/bbs-custom.css\">\\n<link rel=\"stylesheet\" type=\"text/css\" href=\"//images.ptt.cc/bbs/v2.27/pushstream.css\" media=\"screen\">\\n<link rel=\"stylesheet\" type=\"text/css\" href=\"//images.ptt.cc/bbs/v2.27/bbs-print.css\" media=\"print\">\\n\\n\\n\\n\\n\\t</head>\\n    <body>\\n\\t\\t\\n<div id=\"topbar-container\">\\n\\t<div id=\"topbar\" class=\"bbs-content\">\\n\\t\\t<a id=\"logo\" href=\"/bbs/\">批踢踢實業坊</a>\\n\\t\\t<span>&rsaquo;</span>\\n\\t\\t<a class=\"board\" href=\"/bbs/creditcard/index.html\"><span class=\"board-label\">看板 </span>creditcard</a>\\n\\t\\t<a class=\"right small\" href=\"/about.html\">關於我們</a>\\n\\t\\t<a class=\"right small\" href=\"/contact.html\">聯絡資訊</a>\\n\\t</div>\\n</div>\\n\\n<div id=\"main-container\">\\n\\t<div id=\"action-bar-container\">\\n\\t\\t<div class=\"action-bar\">\\n\\t\\t\\t<div class=\"btn-group btn-group-dir\">\\n\\t\\t\\t\\t<a class=\"btn selected\" href=\"/bbs/creditcard/index.html\">看板</a>\\n\\t\\t\\t\\t<a class=\"btn\" href=\"/man/creditcard/index.html\">精華區</a>\\n\\t\\t\\t</div>\\n\\t\\t\\t<div class=\"btn-group btn-group-paging\">\\n\\t\\t\\t\\t<a class=\"btn wide\" href=\"/bbs/creditcard/index1.html\">最舊</a>\\n\\t\\t\\t\\t<a class=\"btn wide\" href=\"/bbs/creditcard/index3201.html\">&lsaquo; 上頁</a>\\n\\t\\t\\t\\t<a class=\"btn wide disabled\">下頁 &rsaquo;</a>\\n\\t\\t\\t\\t<a class=\"btn wide\" href=\"/bbs/creditcard/index.html\">最新</a>\\n\\t\\t\\t</div>\\n\\t\\t</div>\\n\\t</div>\\n\\n\\t<div class=\"r-list-container action-bar-margin bbs-screen\">\\n\\t\\t<div class=\"search-bar\">\\n\\t\\t\\t<form type=\"get\" action=\"search\" id=\"search-bar\">\\n\\t\\t\\t\\t<input class=\"query\" type=\"text\" name=\"q\" value=\"\" placeholder=\"搜尋文章&#x22ef;\">\\n\\t\\t\\t</form>\\n\\t\\t</div>\\n\\n\\t\\t\\n\\t\\t\\n            \\n        \\n        \\n\\t\\t<div class=\"r-ent\">\\n\\t\\t\\t<div class=\"nrec\"><span class=\"hl f3\">44</span></div>\\n\\t\\t\\t<div class=\"title\">\\n\\t\\t\\t\\n\\t\\t\\t\\t<a href=\"/bbs/creditcard/M.1577334088.A.27C.html\">[問題] 不小心刷到別人的卡加油怎麼處理？</a>\\n\\t\\t\\t\\n\\t\\t\\t</div>\\n\\t\\t\\t<div class=\"meta\">\\n\\t\\t\\t\\t<div class=\"author\">kuanfu</div>\\n\\t\\t\\t\\t<div class=\"article-menu\">\\n\\t\\t\\t\\t\\t\\n\\t\\t\\t\\t\\t<div class=\"trigger\">&#x22ef;</div>\\n\\t\\t\\t\\t\\t<div class=\"dropdown\">\\n\\t\\t\\t\\t\\t\\t<div class=\"item\"><a href=\"/bbs/creditcard/search?q=thread%3A%5B%E5%95%8F%E9%A1%8C%5D&#43;%E4%B8%8D%E5%B0%8F%E5%BF%83%E5%88%B7%E5%88%B0%E5%88%A5%E4%BA%BA%E7%9A%84%E5%8D%A1%E5%8A%A0%E6%B2%B9%E6%80%8E%E9%BA%BC%E8%99%95%E7%90%86%EF%BC%9F\">搜尋同標題文章</a></div>\\n\\t\\t\\t\\t\\t\\t\\n\\t\\t\\t\\t\\t\\t<div class=\"item\"><a href=\"/bbs/creditcard/search?q=author%3Akuanfu\">搜尋看板內 kuanfu 的文章</a></div>\\n\\t\\t\\t\\t\\t\\t\\n\\t\\t\\t\\t\\t</div>\\n\\t\\t\\t\\t\\t\\n\\t\\t\\t\\t</div>\\n\\t\\t\\t\\t<div class=\"date\">12/26</div>\\n\\t\\t\\t\\t<div class=\"mark\"></div>\\n\\t\\t\\t</div>\\n\\t\\t</div>\\n\\n\\t\\t\\n            \\n        \\n        \\n\\t\\t<div class=\"r-ent\">\\n\\t\\t\\t<div class=\"nrec\"><span class=\"hl f2\">1</span></div>\\n\\t\\t\\t<div class=\"title\">\\n\\t\\t\\t\\n\\t\\t\\t\\t<a href=\"/bbs/creditcard/M.1577340117.A.206.html\">[心得] 小白 國泰KOKO COMBO 核卡</a>\\n\\t\\t\\t\\n\\t\\t\\t</div>\\n\\t\\t\\t<div class=\"meta\">\\n\\t\\t\\t\\t<div class=\"author\">SuKamo</div>\\n\\t\\t\\t\\t<div class=\"article-menu\">\\n\\t\\t\\t\\t\\t\\n\\t\\t\\t\\t\\t<div class=\"trigger\">&#x22ef;</div>\\n\\t\\t\\t\\t\\t<div class=\"dropdown\">\\n\\t\\t\\t\\t\\t\\t<div class=\"item\"><a href=\"/bbs/creditcard/search?q=thread%3A%5B%E5%BF%83%E5%BE%97%5D&#43;%E5%B0%8F%E7%99%BD&#43;%E5%9C%8B%E6%B3%B0KOKO&#43;COMBO&#43;%E6%A0%B8%E5%8D%A1\">搜尋同標題文章</a></div>\\n\\t\\t\\t\\t\\t\\t\\n\\t\\t\\t\\t\\t\\t<div class=\"item\"><a href=\"/bbs/creditcard/search?q=author%3ASuKamo\">搜尋看板內 SuKamo 的文章</a></div>\\n\\t\\t\\t\\t\\t\\t\\n\\t\\t\\t\\t\\t</div>\\n\\t\\t\\t\\t\\t\\n\\t\\t\\t\\t</div>\\n\\t\\t\\t\\t<div class=\"date\">12/26</div>\\n\\t\\t\\t\\t<div class=\"mark\"></div>\\n\\t\\t\\t</div>\\n\\t\\t</div>\\n\\n\\t\\t\\n            \\n        \\n        \\n\\t\\t<div class=\"r-ent\">\\n\\t\\t\\t<div class=\"nrec\"><span class=\"hl f2\">5</span></div>\\n\\t\\t\\t<div class=\"title\">\\n\\t\\t\\t\\n\\t\\t\\t\\t<a href=\"/bbs/creditcard/M.1577344505.A.C9D.html\">[問題] 玉山U Bear 國內線機票購買</a>\\n\\t\\t\\t\\n\\t\\t\\t</div>\\n\\t\\t\\t<div class=\"meta\">\\n\\t\\t\\t\\t<div class=\"author\">octetrule</div>\\n\\t\\t\\t\\t<div class=\"article-menu\">\\n\\t\\t\\t\\t\\t\\n\\t\\t\\t\\t\\t<div class=\"trigger\">&#x22ef;</div>\\n\\t\\t\\t\\t\\t<div class=\"dropdown\">\\n\\t\\t\\t\\t\\t\\t<div class=\"item\"><a href=\"/bbs/creditcard/search?q=thread%3A%5B%E5%95%8F%E9%A1%8C%5D&#43;%E7%8E%89%E5%B1%B1U&#43;Bear&#43;%E5%9C%8B%E5%85%A7%E7%B7%9A%E6%A9%9F%E7%A5%A8%E8%B3%BC%E8%B2%B7\">搜尋同標題文章</a></div>\\n\\t\\t\\t\\t\\t\\t\\n\\t\\t\\t\\t\\t\\t<div class=\"item\"><a href=\"/bbs/creditcard/search?q=author%3Aoctetrule\">搜尋看板內 octetrule 的文章</a></div>\\n\\t\\t\\t\\t\\t\\t\\n\\t\\t\\t\\t\\t</div>\\n\\t\\t\\t\\t\\t\\n\\t\\t\\t\\t</div>\\n\\t\\t\\t\\t<div class=\"date\">12/26</div>\\n\\t\\t\\t\\t<div class=\"mark\"></div>\\n\\t\\t\\t</div>\\n\\t\\t</div>\\n\\n\\t\\t\\n            \\n        \\n        \\n\\t\\t<div class=\"r-ent\">\\n\\t\\t\\t<div class=\"nrec\"></div>\\n\\t\\t\\t<div class=\"title\">\\n\\t\\t\\t\\n\\t\\t\\t\\t(本文已被刪除) [wilbermia]\\n\\t\\t\\t\\n\\t\\t\\t</div>\\n\\t\\t\\t<div class=\"meta\">\\n\\t\\t\\t\\t<div class=\"author\">-</div>\\n\\t\\t\\t\\t<div class=\"article-menu\">\\n\\t\\t\\t\\t\\t\\n\\t\\t\\t\\t</div>\\n\\t\\t\\t\\t<div class=\"date\">12/26</div>\\n\\t\\t\\t\\t<div class=\"mark\"></div>\\n\\t\\t\\t</div>\\n\\t\\t</div>\\n\\n\\t\\t\\n            \\n        \\n        \\n\\t\\t<div class=\"r-ent\">\\n\\t\\t\\t<div class=\"nrec\"><span class=\"hl f3\">10</span></div>\\n\\t\\t\\t<div class=\"title\">\\n\\t\\t\\t\\n\\t\\t\\t\\t<a href=\"/bbs/creditcard/M.1577347628.A.31E.html\">[情報] 美國運通長榮簽帳卡&lt;2020 新年哩上加哩&gt;</a>\\n\\t\\t\\t\\n\\t\\t\\t</div>\\n\\t\\t\\t<div class=\"meta\">\\n\\t\\t\\t\\t<div class=\"author\">KSchuang</div>\\n\\t\\t\\t\\t<div class=\"article-menu\">\\n\\t\\t\\t\\t\\t\\n\\t\\t\\t\\t\\t<div class=\"trigger\">&#x22ef;</div>\\n\\t\\t\\t\\t\\t<div class=\"dropdown\">\\n\\t\\t\\t\\t\\t\\t<div class=\"item\"><a href=\"/bbs/creditcard/search?q=thread%3A%5B%E6%83%85%E5%A0%B1%5D&#43;%E7%BE%8E%E5%9C%8B%E9%81%8B%E9%80%9A%E9%95%B7%E6%A6%AE%E7%B0%BD%E5%B8%B3%E5%8D%A1%3C2020&#43;%E6%96%B0%E5%B9%B4%E5%93%A9%E4%B8%8A%E5%8A%A0%E5%93%A9%3E\">搜尋同標題文章</a></div>\\n\\t\\t\\t\\t\\t\\t\\n\\t\\t\\t\\t\\t\\t<div class=\"item\"><a href=\"/bbs/creditcard/search?q=author%3AKSchuang\">搜尋看板內 KSchuang 的文章</a></div>\\n\\t\\t\\t\\t\\t\\t\\n\\t\\t\\t\\t\\t</div>\\n\\t\\t\\t\\t\\t\\n\\t\\t\\t\\t</div>\\n\\t\\t\\t\\t<div class=\"date\">12/26</div>\\n\\t\\t\\t\\t<div class=\"mark\"></div>\\n\\t\\t\\t</div>\\n\\t\\t</div>\\n\\n\\t\\t\\n            \\n        \\n        \\n\\t\\t<div class=\"r-ent\">\\n\\t\\t\\t<div class=\"nrec\"><span class=\"hl f3\">31</span></div>\\n\\t\\t\\t<div class=\"title\">\\n\\t\\t\\t\\n\\t\\t\\t\\t<a href=\"/bbs/creditcard/M.1577348978.A.085.html\">Re: [情報] 6 Pay享6%，My樂94神</a>\\n\\t\\t\\t\\n\\t\\t\\t</div>\\n\\t\\t\\t<div class=\"meta\">\\n\\t\\t\\t\\t<div class=\"author\">wilbermia</div>\\n\\t\\t\\t\\t<div class=\"article-menu\">\\n\\t\\t\\t\\t\\t\\n\\t\\t\\t\\t\\t<div class=\"trigger\">&#x22ef;</div>\\n\\t\\t\\t\\t\\t<div class=\"dropdown\">\\n\\t\\t\\t\\t\\t\\t<div class=\"item\"><a href=\"/bbs/creditcard/search?q=thread%3A%5B%E6%83%85%E5%A0%B1%5D&#43;6&#43;Pay%E4%BA%AB6%25%EF%BC%8CMy%E6%A8%8294%E7%A5%9E\">搜尋同標題文章</a></div>\\n\\t\\t\\t\\t\\t\\t\\n\\t\\t\\t\\t\\t\\t<div class=\"item\"><a href=\"/bbs/creditcard/search?q=author%3Awilbermia\">搜尋看板內 wilbermia 的文章</a></div>\\n\\t\\t\\t\\t\\t\\t\\n\\t\\t\\t\\t\\t</div>\\n\\t\\t\\t\\t\\t\\n\\t\\t\\t\\t</div>\\n\\t\\t\\t\\t<div class=\"date\">12/26</div>\\n\\t\\t\\t\\t<div class=\"mark\"></div>\\n\\t\\t\\t</div>\\n\\t\\t</div>\\n\\n\\t\\t\\n            \\n        \\n        \\n\\t\\t<div class=\"r-ent\">\\n\\t\\t\\t<div class=\"nrec\"></div>\\n\\t\\t\\t<div class=\"title\">\\n\\t\\t\\t\\n\\t\\t\\t\\t<a href=\"/bbs/creditcard/M.1577360563.A.B48.html\">Re: [討論] 玉山Only貴賓室帳單認列</a>\\n\\t\\t\\t\\n\\t\\t\\t</div>\\n\\t\\t\\t<div class=\"meta\">\\n\\t\\t\\t\\t<div class=\"author\">gomile888</div>\\n\\t\\t\\t\\t<div class=\"article-menu\">\\n\\t\\t\\t\\t\\t\\n\\t\\t\\t\\t\\t<div class=\"trigger\">&#x22ef;</div>\\n\\t\\t\\t\\t\\t<div class=\"dropdown\">\\n\\t\\t\\t\\t\\t\\t<div class=\"item\"><a href=\"/bbs/creditcard/search?q=thread%3A%5B%E8%A8%8E%E8%AB%96%5D&#43;%E7%8E%89%E5%B1%B1Only%E8%B2%B4%E8%B3%93%E5%AE%A4%E5%B8%B3%E5%96%AE%E8%AA%8D%E5%88%97\">搜尋同標題文章</a></div>\\n\\t\\t\\t\\t\\t\\t\\n\\t\\t\\t\\t\\t\\t<div class=\"item\"><a href=\"/bbs/creditcard/search?q=author%3Agomile888\">搜尋看板內 gomile888 的文章</a></div>\\n\\t\\t\\t\\t\\t\\t\\n\\t\\t\\t\\t\\t</div>\\n\\t\\t\\t\\t\\t\\n\\t\\t\\t\\t</div>\\n\\t\\t\\t\\t<div class=\"date\">12/26</div>\\n\\t\\t\\t\\t<div class=\"mark\"></div>\\n\\t\\t\\t</div>\\n\\t\\t</div>\\n\\n\\t\\t\\n        \\n        <div class=\"r-list-sep\"></div>\\n            \\n                \\n        \\n        \\n\\t\\t<div class=\"r-ent\">\\n\\t\\t\\t<div class=\"nrec\"><span class=\"hl f2\">8</span></div>\\n\\t\\t\\t<div class=\"title\">\\n\\t\\t\\t\\n\\t\\t\\t\\t<a href=\"/bbs/creditcard/M.1488251491.A.C7B.html\">[公告] === 卡板板規 V8.0 === (2018/05/25修訂)</a>\\n\\t\\t\\t\\n\\t\\t\\t</div>\\n\\t\\t\\t<div class=\"meta\">\\n\\t\\t\\t\\t<div class=\"author\">MoonAthenaX</div>\\n\\t\\t\\t\\t<div class=\"article-menu\">\\n\\t\\t\\t\\t\\t\\n\\t\\t\\t\\t\\t<div class=\"trigger\">&#x22ef;</div>\\n\\t\\t\\t\\t\\t<div class=\"dropdown\">\\n\\t\\t\\t\\t\\t\\t<div class=\"item\"><a href=\"/bbs/creditcard/search?q=thread%3A%5B%E5%85%AC%E5%91%8A%5D&#43;%3D%3D%3D&#43;%E5%8D%A1%E6%9D%BF%E6%9D%BF%E8%A6%8F&#43;V8.0&#43;%3D%3D%3D&#43;%282018%2F05%2F25%E4%BF%AE%E8%A8%82%29\">搜尋同標題文章</a></div>\\n\\t\\t\\t\\t\\t\\t\\n\\t\\t\\t\\t\\t\\t<div class=\"item\"><a href=\"/bbs/creditcard/search?q=author%3AMoonAthenaX\">搜尋看板內 MoonAthenaX 的文章</a></div>\\n\\t\\t\\t\\t\\t\\t\\n\\t\\t\\t\\t\\t</div>\\n\\t\\t\\t\\t\\t\\n\\t\\t\\t\\t</div>\\n\\t\\t\\t\\t<div class=\"date\"> 2/28</div>\\n\\t\\t\\t\\t<div class=\"mark\">M</div>\\n\\t\\t\\t</div>\\n\\t\\t</div>\\n\\n            \\n                \\n        \\n        \\n\\t\\t<div class=\"r-ent\">\\n\\t\\t\\t<div class=\"nrec\"><span class=\"hl f3\">95</span></div>\\n\\t\\t\\t<div class=\"title\">\\n\\t\\t\\t\\n\\t\\t\\t\\t<a href=\"/bbs/creditcard/M.1425488177.A.59D.html\">[公告] 置底檢舉專區</a>\\n\\t\\t\\t\\n\\t\\t\\t</div>\\n\\t\\t\\t<div class=\"meta\">\\n\\t\\t\\t\\t<div class=\"author\">bboy0720</div>\\n\\t\\t\\t\\t<div class=\"article-menu\">\\n\\t\\t\\t\\t\\t\\n\\t\\t\\t\\t\\t<div class=\"trigger\">&#x22ef;</div>\\n\\t\\t\\t\\t\\t<div class=\"dropdown\">\\n\\t\\t\\t\\t\\t\\t<div class=\"item\"><a href=\"/bbs/creditcard/search?q=thread%3A%5B%E5%85%AC%E5%91%8A%5D&#43;%E7%BD%AE%E5%BA%95%E6%AA%A2%E8%88%89%E5%B0%88%E5%8D%80\">搜尋同標題文章</a></div>\\n\\t\\t\\t\\t\\t\\t\\n\\t\\t\\t\\t\\t\\t<div class=\"item\"><a href=\"/bbs/creditcard/search?q=author%3Abboy0720\">搜尋看板內 bboy0720 的文章</a></div>\\n\\t\\t\\t\\t\\t\\t\\n\\t\\t\\t\\t\\t</div>\\n\\t\\t\\t\\t\\t\\n\\t\\t\\t\\t</div>\\n\\t\\t\\t\\t<div class=\"date\"> 3/05</div>\\n\\t\\t\\t\\t<div class=\"mark\">M</div>\\n\\t\\t\\t</div>\\n\\t\\t</div>\\n\\n            \\n                \\n        \\n        \\n\\t\\t<div class=\"r-ent\">\\n\\t\\t\\t<div class=\"nrec\"><span class=\"hl f3\">76</span></div>\\n\\t\\t\\t<div class=\"title\">\\n\\t\\t\\t\\n\\t\\t\\t\\t<a href=\"/bbs/creditcard/M.1425873650.A.F81.html\">[情報] 各家銀行0800免付費電話</a>\\n\\t\\t\\t\\n\\t\\t\\t</div>\\n\\t\\t\\t<div class=\"meta\">\\n\\t\\t\\t\\t<div class=\"author\">MoonAthenaX</div>\\n\\t\\t\\t\\t<div class=\"article-menu\">\\n\\t\\t\\t\\t\\t\\n\\t\\t\\t\\t\\t<div class=\"trigger\">&#x22ef;</div>\\n\\t\\t\\t\\t\\t<div class=\"dropdown\">\\n\\t\\t\\t\\t\\t\\t<div class=\"item\"><a href=\"/bbs/creditcard/search?q=thread%3A%5B%E6%83%85%E5%A0%B1%5D&#43;%E5%90%84%E5%AE%B6%E9%8A%80%E8%A1%8C0800%E5%85%8D%E4%BB%98%E8%B2%BB%E9%9B%BB%E8%A9%B1\">搜尋同標題文章</a></div>\\n\\t\\t\\t\\t\\t\\t\\n\\t\\t\\t\\t\\t\\t<div class=\"item\"><a href=\"/bbs/creditcard/search?q=author%3AMoonAthenaX\">搜尋看板內 MoonAthenaX 的文章</a></div>\\n\\t\\t\\t\\t\\t\\t\\n\\t\\t\\t\\t\\t</div>\\n\\t\\t\\t\\t\\t\\n\\t\\t\\t\\t</div>\\n\\t\\t\\t\\t<div class=\"date\"> 3/09</div>\\n\\t\\t\\t\\t<div class=\"mark\">M</div>\\n\\t\\t\\t</div>\\n\\t\\t</div>\\n\\n            \\n                \\n        \\n        \\n\\t\\t<div class=\"r-ent\">\\n\\t\\t\\t<div class=\"nrec\"><span class=\"hl f1\">爆</span></div>\\n\\t\\t\\t<div class=\"title\">\\n\\t\\t\\t\\n\\t\\t\\t\\t<a href=\"/bbs/creditcard/M.1528898930.A.F33.html\">[整理] 小資族 日常消費優惠 回饋統整 (11/08)</a>\\n\\t\\t\\t\\n\\t\\t\\t</div>\\n\\t\\t\\t<div class=\"meta\">\\n\\t\\t\\t\\t<div class=\"author\">DarkRobert</div>\\n\\t\\t\\t\\t<div class=\"article-menu\">\\n\\t\\t\\t\\t\\t\\n\\t\\t\\t\\t\\t<div class=\"trigger\">&#x22ef;</div>\\n\\t\\t\\t\\t\\t<div class=\"dropdown\">\\n\\t\\t\\t\\t\\t\\t<div class=\"item\"><a href=\"/bbs/creditcard/search?q=thread%3A%5B%E6%95%B4%E7%90%86%5D&#43;%E5%B0%8F%E8%B3%87%E6%97%8F&#43;%E6%97%A5%E5%B8%B8%E6%B6%88%E8%B2%BB%E5%84%AA%E6%83%A0&#43;%E5%9B%9E%E9%A5%8B%E7%B5%B1%E6%95%B4&#43;%2811%2F08%29\">搜尋同標題文章</a></div>\\n\\t\\t\\t\\t\\t\\t\\n\\t\\t\\t\\t\\t\\t<div class=\"item\"><a href=\"/bbs/creditcard/search?q=author%3ADarkRobert\">搜尋看板內 DarkRobert 的文章</a></div>\\n\\t\\t\\t\\t\\t\\t\\n\\t\\t\\t\\t\\t</div>\\n\\t\\t\\t\\t\\t\\n\\t\\t\\t\\t</div>\\n\\t\\t\\t\\t<div class=\"date\"> 6/13</div>\\n\\t\\t\\t\\t<div class=\"mark\">M</div>\\n\\t\\t\\t</div>\\n\\t\\t</div>\\n\\n            \\n                \\n        \\n        \\n\\t\\t<div class=\"r-ent\">\\n\\t\\t\\t<div class=\"nrec\"><span class=\"hl f1\">爆</span></div>\\n\\t\\t\\t<div class=\"title\">\\n\\t\\t\\t\\n\\t\\t\\t\\t<a href=\"/bbs/creditcard/M.1562080928.A.FEF.html\">[心得] 2019下半年用卡整理 (12/4更新)</a>\\n\\t\\t\\t\\n\\t\\t\\t</div>\\n\\t\\t\\t<div class=\"meta\">\\n\\t\\t\\t\\t<div class=\"author\">cokelon</div>\\n\\t\\t\\t\\t<div class=\"article-menu\">\\n\\t\\t\\t\\t\\t\\n\\t\\t\\t\\t\\t<div class=\"trigger\">&#x22ef;</div>\\n\\t\\t\\t\\t\\t<div class=\"dropdown\">\\n\\t\\t\\t\\t\\t\\t<div class=\"item\"><a href=\"/bbs/creditcard/search?q=thread%3A%5B%E5%BF%83%E5%BE%97%5D&#43;2019%E4%B8%8B%E5%8D%8A%E5%B9%B4%E7%94%A8%E5%8D%A1%E6%95%B4%E7%90%86&#43;%2812%2F4%E6%9B%B4%E6%96%B0%29\">搜尋同標題文章</a></div>\\n\\t\\t\\t\\t\\t\\t\\n\\t\\t\\t\\t\\t\\t<div class=\"item\"><a href=\"/bbs/creditcard/search?q=author%3Acokelon\">搜尋看板內 cokelon 的文章</a></div>\\n\\t\\t\\t\\t\\t\\t\\n\\t\\t\\t\\t\\t</div>\\n\\t\\t\\t\\t\\t\\n\\t\\t\\t\\t</div>\\n\\t\\t\\t\\t<div class=\"date\"> 7/02</div>\\n\\t\\t\\t\\t<div class=\"mark\">M</div>\\n\\t\\t\\t</div>\\n\\t\\t</div>\\n\\n            \\n        \\n\\t</div>\\n\\n    \\n</div>\\n\\n\\t\\t\\n\\n<script>\\n  (function(i,s,o,g,r,a,m){i[\\'GoogleAnalyticsObject\\']=r;i[r]=i[r]||function(){\\n  (i[r].q=i[r].q||[]).push(arguments)},i[r].l=1*new Date();a=s.createElement(o),\\n  m=s.getElementsByTagName(o)[0];a.async=1;a.src=g;m.parentNode.insertBefore(a,m)\\n  })(window,document,\\'script\\',\\'https://www.google-analytics.com/analytics.js\\',\\'ga\\');\\n\\n  ga(\\'create\\', \\'UA-32365737-1\\', {\\n    cookieDomain: \\'ptt.cc\\',\\n    legacyCookieDomain: \\'ptt.cc\\'\\n  });\\n  ga(\\'send\\', \\'pageview\\');\\n</script>\\n\\n\\n\\t\\t\\n<script src=\"//ajax.googleapis.com/ajax/libs/jquery/2.1.1/jquery.min.js\"></script>\\n<script src=\"//images.ptt.cc/bbs/v2.27/bbs.js\"></script>\\n\\n    </body>\\n</html>\\n'"
            ]
          },
          "metadata": {
            "tags": []
          },
          "execution_count": 2
        }
      ]
    },
    {
      "cell_type": "code",
      "metadata": {
        "id": "ChM9YLwoDo1W",
        "colab_type": "code",
        "colab": {}
      },
      "source": [
        "from bs4 import BeautifulSoup\n",
        "soup = BeautifulSoup(res.text, 'lxml')"
      ],
      "execution_count": 0,
      "outputs": []
    },
    {
      "cell_type": "code",
      "metadata": {
        "id": "oQ4_AyfgFOPc",
        "colab_type": "code",
        "colab": {
          "base_uri": "https://localhost:8080/",
          "height": 686
        },
        "outputId": "7767bdab-e9cf-4c5f-cec8-6c3e447df4cc"
      },
      "source": [
        "for rent in soup.select('.r-ent'):\n",
        "  #print(rent)\n",
        "  nrec = rent.select_one('.nrec').text\n",
        "  title = rent.select_one('.title').text\n",
        "  author = rent.select_one('.author').text\n",
        "  print(nrec, title, author)\n",
        "  #soup.select('.title')"
      ],
      "execution_count": 6,
      "outputs": [
        {
          "output_type": "stream",
          "text": [
            "44 \n",
            "[問題] 不小心刷到別人的卡加油怎麼處理？\n",
            " kuanfu\n",
            "1 \n",
            "[心得] 小白 國泰KOKO COMBO 核卡\n",
            " SuKamo\n",
            "5 \n",
            "[問題] 玉山U Bear 國內線機票購買\n",
            " octetrule\n",
            " \n",
            "\t\t\t\n",
            "\t\t\t\t(本文已被刪除) [wilbermia]\n",
            "\t\t\t\n",
            "\t\t\t -\n",
            "10 \n",
            "[情報] 美國運通長榮簽帳卡<2020 新年哩上加哩>\n",
            " KSchuang\n",
            "31 \n",
            "Re: [情報] 6 Pay享6%，My樂94神\n",
            " wilbermia\n",
            " \n",
            "Re: [討論] 玉山Only貴賓室帳單認列\n",
            " gomile888\n",
            "8 \n",
            "[公告] === 卡板板規 V8.0 === (2018/05/25修訂)\n",
            " MoonAthenaX\n",
            "95 \n",
            "[公告] 置底檢舉專區\n",
            " bboy0720\n",
            "76 \n",
            "[情報] 各家銀行0800免付費電話\n",
            " MoonAthenaX\n",
            "爆 \n",
            "[整理] 小資族 日常消費優惠 回饋統整 (11/08)\n",
            " DarkRobert\n",
            "爆 \n",
            "[心得] 2019下半年用卡整理 (12/4更新)\n",
            " cokelon\n"
          ],
          "name": "stdout"
        }
      ]
    },
    {
      "cell_type": "code",
      "metadata": {
        "id": "gf70wjB_FSs1",
        "colab_type": "code",
        "colab": {}
      },
      "source": [
        "pageurl = 'https://www.ptt.cc/bbs/creditcard/index{}.html'\n",
        "ary = []\n",
        "for i in range(3201,3191,-1):\n",
        "  res = requests.get(pageurl.format(i))\n",
        "  soup = BeautifulSoup(res.text, 'lxml')\n",
        "  for rent in soup.select('.r-ent'):\n",
        "    nrec = rent.select_one('.nrec').text.strip()\n",
        "    title = rent.select_one('.title').text.strip()\n",
        "    author = rent.select_one('.author').text.strip()\n",
        "    ary.append({'nrec':nrec, 'title':title, 'author':author})\n",
        " "
      ],
      "execution_count": 0,
      "outputs": []
    },
    {
      "cell_type": "code",
      "metadata": {
        "id": "jbE8sD98GcMB",
        "colab_type": "code",
        "colab": {
          "base_uri": "https://localhost:8080/",
          "height": 34
        },
        "outputId": "86952bea-5229-4805-b6b8-f0bf56180d64"
      },
      "source": [
        "len(ary)"
      ],
      "execution_count": 12,
      "outputs": [
        {
          "output_type": "execute_result",
          "data": {
            "text/plain": [
              "200"
            ]
          },
          "metadata": {
            "tags": []
          },
          "execution_count": 12
        }
      ]
    },
    {
      "cell_type": "code",
      "metadata": {
        "id": "mPqldDEBHBG8",
        "colab_type": "code",
        "colab": {
          "base_uri": "https://localhost:8080/",
          "height": 417
        },
        "outputId": "6f562af9-8ebb-4b41-e037-0fa82f0a3223"
      },
      "source": [
        "import pandas\n",
        "df = pandas.DataFrame(ary)\n",
        "df"
      ],
      "execution_count": 13,
      "outputs": [
        {
          "output_type": "execute_result",
          "data": {
            "text/html": [
              "<div>\n",
              "<style scoped>\n",
              "    .dataframe tbody tr th:only-of-type {\n",
              "        vertical-align: middle;\n",
              "    }\n",
              "\n",
              "    .dataframe tbody tr th {\n",
              "        vertical-align: top;\n",
              "    }\n",
              "\n",
              "    .dataframe thead th {\n",
              "        text-align: right;\n",
              "    }\n",
              "</style>\n",
              "<table border=\"1\" class=\"dataframe\">\n",
              "  <thead>\n",
              "    <tr style=\"text-align: right;\">\n",
              "      <th></th>\n",
              "      <th>nrec</th>\n",
              "      <th>title</th>\n",
              "      <th>author</th>\n",
              "    </tr>\n",
              "  </thead>\n",
              "  <tbody>\n",
              "    <tr>\n",
              "      <th>0</th>\n",
              "      <td></td>\n",
              "      <td>[問題] 一般消費定義?</td>\n",
              "      <td>jay121133</td>\n",
              "    </tr>\n",
              "    <tr>\n",
              "      <th>1</th>\n",
              "      <td>18</td>\n",
              "      <td>[情報] 永豐分眾1月一般消費回饋200</td>\n",
              "      <td>peggy7963</td>\n",
              "    </tr>\n",
              "    <tr>\n",
              "      <th>2</th>\n",
              "      <td>39</td>\n",
              "      <td>Re: [心得] 富邦J卡核卡 (極度傻眼)</td>\n",
              "      <td>hsing7414</td>\n",
              "    </tr>\n",
              "    <tr>\n",
              "      <th>3</th>\n",
              "      <td>50</td>\n",
              "      <td>[問題] 玉山世界卡！</td>\n",
              "      <td>Bohu0619</td>\n",
              "    </tr>\n",
              "    <tr>\n",
              "      <th>4</th>\n",
              "      <td>8</td>\n",
              "      <td>[問題] Klook台灣網站上刷外幣</td>\n",
              "      <td>mikimi</td>\n",
              "    </tr>\n",
              "    <tr>\n",
              "      <th>...</th>\n",
              "      <td>...</td>\n",
              "      <td>...</td>\n",
              "      <td>...</td>\n",
              "    </tr>\n",
              "    <tr>\n",
              "      <th>195</th>\n",
              "      <td>20</td>\n",
              "      <td>Re: [心得] 不推渣打信用卡</td>\n",
              "      <td>icehorng</td>\n",
              "    </tr>\n",
              "    <tr>\n",
              "      <th>196</th>\n",
              "      <td>21</td>\n",
              "      <td>[問題] 台新黑狗虛擬卡號大家都背起來用嗎</td>\n",
              "      <td>btb</td>\n",
              "    </tr>\n",
              "    <tr>\n",
              "      <th>197</th>\n",
              "      <td>9</td>\n",
              "      <td>[閒聊] 台新街口信用卡討論</td>\n",
              "      <td>house110</td>\n",
              "    </tr>\n",
              "    <tr>\n",
              "      <th>198</th>\n",
              "      <td>3</td>\n",
              "      <td>Re: [問題] momo 小白 無照核卡</td>\n",
              "      <td>lar01</td>\n",
              "    </tr>\n",
              "    <tr>\n",
              "      <th>199</th>\n",
              "      <td>10</td>\n",
              "      <td>[心得]玉山世界卡/永豐大戶/中信調額</td>\n",
              "      <td>superfo</td>\n",
              "    </tr>\n",
              "  </tbody>\n",
              "</table>\n",
              "<p>200 rows × 3 columns</p>\n",
              "</div>"
            ],
            "text/plain": [
              "    nrec                   title     author\n",
              "0                   [問題] 一般消費定義?  jay121133\n",
              "1     18    [情報] 永豐分眾1月一般消費回饋200  peggy7963\n",
              "2     39  Re: [心得] 富邦J卡核卡 (極度傻眼)  hsing7414\n",
              "3     50             [問題] 玉山世界卡！   Bohu0619\n",
              "4      8      [問題] Klook台灣網站上刷外幣     mikimi\n",
              "..   ...                     ...        ...\n",
              "195   20        Re: [心得] 不推渣打信用卡   icehorng\n",
              "196   21   [問題] 台新黑狗虛擬卡號大家都背起來用嗎        btb\n",
              "197    9          [閒聊] 台新街口信用卡討論   house110\n",
              "198    3   Re: [問題] momo 小白 無照核卡      lar01\n",
              "199   10     [心得]玉山世界卡/永豐大戶/中信調額    superfo\n",
              "\n",
              "[200 rows x 3 columns]"
            ]
          },
          "metadata": {
            "tags": []
          },
          "execution_count": 13
        }
      ]
    },
    {
      "cell_type": "code",
      "metadata": {
        "id": "eyvpJB7nHJzW",
        "colab_type": "code",
        "colab": {
          "base_uri": "https://localhost:8080/",
          "height": 87
        },
        "outputId": "21990e1e-c731-4fc2-ae88-c388a297ebe8"
      },
      "source": [
        "df[df['title'].str.contains('中信')].count()"
      ],
      "execution_count": 17,
      "outputs": [
        {
          "output_type": "execute_result",
          "data": {
            "text/plain": [
              "nrec      7\n",
              "title     7\n",
              "author    7\n",
              "dtype: int64"
            ]
          },
          "metadata": {
            "tags": []
          },
          "execution_count": 17
        }
      ]
    },
    {
      "cell_type": "code",
      "metadata": {
        "id": "u-UTFFR2IYRx",
        "colab_type": "code",
        "colab": {
          "base_uri": "https://localhost:8080/",
          "height": 417
        },
        "outputId": "62eceeec-00f6-4e29-f682-67d168cc71fc"
      },
      "source": [
        "df.sort_values('nrec', ascending=False)"
      ],
      "execution_count": 19,
      "outputs": [
        {
          "output_type": "execute_result",
          "data": {
            "text/html": [
              "<div>\n",
              "<style scoped>\n",
              "    .dataframe tbody tr th:only-of-type {\n",
              "        vertical-align: middle;\n",
              "    }\n",
              "\n",
              "    .dataframe tbody tr th {\n",
              "        vertical-align: top;\n",
              "    }\n",
              "\n",
              "    .dataframe thead th {\n",
              "        text-align: right;\n",
              "    }\n",
              "</style>\n",
              "<table border=\"1\" class=\"dataframe\">\n",
              "  <thead>\n",
              "    <tr style=\"text-align: right;\">\n",
              "      <th></th>\n",
              "      <th>nrec</th>\n",
              "      <th>title</th>\n",
              "      <th>author</th>\n",
              "    </tr>\n",
              "  </thead>\n",
              "  <tbody>\n",
              "    <tr>\n",
              "      <th>59</th>\n",
              "      <td>爆</td>\n",
              "      <td>[情報]2020 DAWHO現金回饋卡</td>\n",
              "      <td>noreg0035941</td>\n",
              "    </tr>\n",
              "    <tr>\n",
              "      <th>165</th>\n",
              "      <td>X3</td>\n",
              "      <td>[新聞]網紅開箱把妹神卡 美國運通「黑卡」顛覆</td>\n",
              "      <td>zithromax</td>\n",
              "    </tr>\n",
              "    <tr>\n",
              "      <th>60</th>\n",
              "      <td>X2</td>\n",
              "      <td>[問題] 聯邦銀行說不繳掛失費用不能掛失?</td>\n",
              "      <td>xfilego</td>\n",
              "    </tr>\n",
              "    <tr>\n",
              "      <th>110</th>\n",
              "      <td>X2</td>\n",
              "      <td>[新聞]有效卡王之爭 國泰世華領先</td>\n",
              "      <td>zithromax</td>\n",
              "    </tr>\n",
              "    <tr>\n",
              "      <th>48</th>\n",
              "      <td>X1</td>\n",
              "      <td>[情報] 玉山Pi卡 率先開槍延長二月底</td>\n",
              "      <td>iixxz</td>\n",
              "    </tr>\n",
              "    <tr>\n",
              "      <th>...</th>\n",
              "      <td>...</td>\n",
              "      <td>...</td>\n",
              "      <td>...</td>\n",
              "    </tr>\n",
              "    <tr>\n",
              "      <th>111</th>\n",
              "      <td></td>\n",
              "      <td>[討論] 國泰世華簡訊otp密碼故障</td>\n",
              "      <td>dacapo</td>\n",
              "    </tr>\n",
              "    <tr>\n",
              "      <th>112</th>\n",
              "      <td></td>\n",
              "      <td>[心得]U Bear、@GoGo、街口卡、賴點卡、保倍卡</td>\n",
              "      <td>god35789</td>\n",
              "    </tr>\n",
              "    <tr>\n",
              "      <th>141</th>\n",
              "      <td></td>\n",
              "      <td>[問題] Pi卡沒有回饋P幣?</td>\n",
              "      <td>Sanbeishuu</td>\n",
              "    </tr>\n",
              "    <tr>\n",
              "      <th>146</th>\n",
              "      <td></td>\n",
              "      <td>[心得] 玉山Pi+Ubear小白核卡</td>\n",
              "      <td>JunQi0226</td>\n",
              "    </tr>\n",
              "    <tr>\n",
              "      <th>0</th>\n",
              "      <td></td>\n",
              "      <td>[問題] 一般消費定義?</td>\n",
              "      <td>jay121133</td>\n",
              "    </tr>\n",
              "  </tbody>\n",
              "</table>\n",
              "<p>200 rows × 3 columns</p>\n",
              "</div>"
            ],
            "text/plain": [
              "    nrec                         title        author\n",
              "59     爆           [情報]2020 DAWHO現金回饋卡  noreg0035941\n",
              "165   X3       [新聞]網紅開箱把妹神卡 美國運通「黑卡」顛覆     zithromax\n",
              "60    X2         [問題] 聯邦銀行說不繳掛失費用不能掛失?       xfilego\n",
              "110   X2             [新聞]有效卡王之爭 國泰世華領先     zithromax\n",
              "48    X1          [情報] 玉山Pi卡 率先開槍延長二月底         iixxz\n",
              "..   ...                           ...           ...\n",
              "111                 [討論] 國泰世華簡訊otp密碼故障        dacapo\n",
              "112       [心得]U Bear、@GoGo、街口卡、賴點卡、保倍卡      god35789\n",
              "141                    [問題] Pi卡沒有回饋P幣?    Sanbeishuu\n",
              "146                [心得] 玉山Pi+Ubear小白核卡     JunQi0226\n",
              "0                         [問題] 一般消費定義?     jay121133\n",
              "\n",
              "[200 rows x 3 columns]"
            ]
          },
          "metadata": {
            "tags": []
          },
          "execution_count": 19
        }
      ]
    }
  ]
}